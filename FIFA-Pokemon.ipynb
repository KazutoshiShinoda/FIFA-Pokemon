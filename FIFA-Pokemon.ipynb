{
 "cells": [
  {
   "cell_type": "code",
   "execution_count": 1,
   "metadata": {},
   "outputs": [],
   "source": [
    "from urllib.request import Request, urlopen\n",
    "from bs4 import BeautifulSoup\n",
    "import re\n",
    "import numpy as np\n",
    "\n",
    "from G1 import g1\n",
    "from G2 import g2"
   ]
  },
  {
   "cell_type": "markdown",
   "metadata": {},
   "source": [
    "## FIFAランキングスコア"
   ]
  },
  {
   "cell_type": "code",
   "execution_count": 2,
   "metadata": {},
   "outputs": [],
   "source": [
    "url = \"https://www.fifa.com/fifa-world-ranking/ranking-table/men/index.html\"\n",
    "headers = {\n",
    "    \"User-Agent\": \"Mozilla/5.0 (X11; Ubuntu; Linux x86_64; rv:47.0) Gecko/20100101 Firefox/47.0\",\n",
    "}\n",
    "request = Request(url=url, headers=headers)\n",
    "response = urlopen(request)\n",
    "fifa = BeautifulSoup(response, 'html.parser')"
   ]
  },
  {
   "cell_type": "code",
   "execution_count": 3,
   "metadata": {},
   "outputs": [],
   "source": [
    "for t in fifa.find_all(\"table\"):\n",
    "    if t.get(\"class\") == \"table tbl-ranking table-striped\".split():\n",
    "        f_table = t"
   ]
  },
  {
   "cell_type": "code",
   "execution_count": 4,
   "metadata": {},
   "outputs": [],
   "source": [
    "f_body = f_table.find(\"tbody\")"
   ]
  },
  {
   "cell_type": "code",
   "execution_count": 5,
   "metadata": {},
   "outputs": [],
   "source": [
    "f_body.find_all(\"tr\")[0].get(\"ranking-rawpoints\")"
   ]
  },
  {
   "cell_type": "code",
   "execution_count": 6,
   "metadata": {},
   "outputs": [],
   "source": [
    "f_list = []\n",
    "f_scores = []\n",
    "for tr in f_body.find_all(\"tr\"):\n",
    "    if not re.match(r\"rnk_*\", tr.get(\"id\")):\n",
    "        continue\n",
    "    for td in tr.find_all(\"td\"):\n",
    "        if td.get(\"class\") == [\"tbl-teamname\"]:\n",
    "            f_list.append(td.text)\n",
    "        if td.get(\"class\") == [\"tbl-points\"]:\n",
    "            f_scores.append(float(td.text.split(\"(\")[-1][:-1]))"
   ]
  },
  {
   "cell_type": "code",
   "execution_count": 7,
   "metadata": {},
   "outputs": [
    {
     "data": {
      "text/plain": [
       "True"
      ]
     },
     "execution_count": 7,
     "metadata": {},
     "output_type": "execute_result"
    }
   ],
   "source": [
    "len(f_list) == len(f_scores)"
   ]
  },
  {
   "cell_type": "code",
   "execution_count": 8,
   "metadata": {},
   "outputs": [
    {
     "name": "stdout",
     "output_type": "stream",
     "text": [
      "チーム数: 211\n"
     ]
    }
   ],
   "source": [
    "print(\"チーム数:\", len(f_list))"
   ]
  },
  {
   "cell_type": "markdown",
   "metadata": {},
   "source": [
    "## ポケモン種族値"
   ]
  },
  {
   "cell_type": "code",
   "execution_count": 9,
   "metadata": {},
   "outputs": [],
   "source": [
    "# 第１世代のポケモンのリスト\n",
    "p_g1 = list(map(lambda x: x.split()[-1], g1.split(\"\\n\")))\n",
    "p_g2 = list(map(lambda x: x.split()[-1], g2.split(\"\\n\")))"
   ]
  },
  {
   "cell_type": "code",
   "execution_count": 10,
   "metadata": {},
   "outputs": [],
   "source": [
    "response = urlopen(\"https://pente.koro-pokemon.com/data/ranking-total.shtml\")\n",
    "poke = BeautifulSoup(response, 'html.parser')"
   ]
  },
  {
   "cell_type": "code",
   "execution_count": 11,
   "metadata": {},
   "outputs": [],
   "source": [
    "table = poke.find_all(\"table\")"
   ]
  },
  {
   "cell_type": "code",
   "execution_count": 12,
   "metadata": {},
   "outputs": [],
   "source": [
    "for t in table:\n",
    "    if \" \".join(t.get(\"class\")) == \"ta4 ta6\":\n",
    "        target = t\n",
    "        break"
   ]
  },
  {
   "cell_type": "code",
   "execution_count": 28,
   "metadata": {},
   "outputs": [],
   "source": [
    "p_list = []\n",
    "p_scores = []\n",
    "for tr in target.find_all(\"tr\"):\n",
    "    p_line = []\n",
    "    for li in tr.find_all(\"li\"):\n",
    "        if li.text in p_g1 or li.text in p_g2:\n",
    "            p_line.append(li.text)\n",
    "    if p_line != []:\n",
    "        p_list.append(p_line)\n",
    "        th = tr.find(\"th\")\n",
    "        assert th.get(\"class\") == [\"th2\"]\n",
    "        p_scores.append(float(th.text))"
   ]
  },
  {
   "cell_type": "code",
   "execution_count": 29,
   "metadata": {},
   "outputs": [
    {
     "data": {
      "text/plain": [
       "True"
      ]
     },
     "execution_count": 29,
     "metadata": {},
     "output_type": "execute_result"
    }
   ],
   "source": [
    "len(p_scores) == len(p_list)"
   ]
  },
  {
   "cell_type": "code",
   "execution_count": 30,
   "metadata": {},
   "outputs": [
    {
     "name": "stdout",
     "output_type": "stream",
     "text": [
      "種族値の種類数: 61\n"
     ]
    }
   ],
   "source": [
    "print(\"種族値の種類数:\", len(p_scores))"
   ]
  },
  {
   "cell_type": "code",
   "execution_count": 31,
   "metadata": {},
   "outputs": [],
   "source": [
    "all_p_list = np.concatenate(p_list)"
   ]
  },
  {
   "cell_type": "code",
   "execution_count": 32,
   "metadata": {},
   "outputs": [
    {
     "data": {
      "text/plain": [
       "192"
      ]
     },
     "execution_count": 32,
     "metadata": {},
     "output_type": "execute_result"
    }
   ],
   "source": [
    "len(all_p_list)"
   ]
  },
  {
   "cell_type": "markdown",
   "metadata": {},
   "source": [
    "## 正規化なし(第1,2世代のみ)"
   ]
  },
  {
   "cell_type": "code",
   "execution_count": 36,
   "metadata": {
    "scrolled": false
   },
   "outputs": [
    {
     "name": "stdout",
     "output_type": "stream",
     "text": [
      "Germany 1558.49 ['ミュウツー', 'ルギア', 'ホウオウ', 'レックウザ'] 680.0\n",
      "Brazil 1430.57 ['ケッキング', 'カイオーガ', 'グラードン'] 670.0\n",
      "Belgium 1298.32 ['カイリュー', 'バンギラス', 'ボーマンダ', 'メタグロス', 'ラティアス', 'ラティオス', 'ミュウ', 'セレビィ', 'ジラーチ'] 600.0\n",
      "Portugal 1273.69 ['フリーザー', 'サンダー', 'ファイヤー', 'ライコウ', 'エンテイ', 'スイクン', 'レジロック', 'レジアイス', 'レジスチル'] 580.0\n",
      "Argentina 1241.45 ['ウインディ'] 555.0\n",
      "Switzerland 1198.72 ['ギャラドス', 'カビゴン', 'キングドラ', 'ハピナス', 'ミロカロス'] 540.0\n",
      "France 1198.13 ['ラプラス', 'クロバット', 'ラグラージ'] 535.0\n",
      "Poland 1182.61 ['リザードン', 'バクフーン'] 534.0\n",
      "Chile 1134.66 ['カメックス', 'オーダイル', 'ジュカイン', 'バシャーモ', 'トドゼルガ', 'ボスゴドラ'] 530.0\n",
      "Spain 1125.5 ['フシギバナ', 'パルシェン', 'シャワーズ', 'サンダース', 'ブースター', 'メガニウム', 'エーフィ', 'ブラッキー'] 525.0\n",
      "Peru 1125.39 ['スターミー', 'フライゴン'] 520.0\n",
      "Denmark 1051.44 ['サーナイト'] 518.0\n",
      "England 1050.84 ['ドククラゲ', 'プテラ', 'ポリゴン2'] 515.0\n",
      "Uruguay 1018.41 ['ニョロボン', 'デンリュウ', 'ハガネール'] 510.0\n",
      "Mexico 989.44 ['ニドクイン', 'ニドキング', 'カイリキー', 'ツボツボ'] 505.0\n",
      "Colombia 985.97 ['ゴルダック', 'フーディン', 'ギャロップ', 'ゲンガー', 'ストライク', 'カイロス', 'ニョロトノ', 'ハッサム', 'ヘラクロス', 'リングマ', 'ヘルガー', 'ドンファン', 'ホエルオー', 'ネンドール'] 500.0\n",
      "Netherlands 980.98 ['オムスター', 'カブトプス', 'ユレイドル', 'アーマルド'] 495.0\n",
      "Wales 953.46 ['ラフレシア', 'ウツボット', 'ヤドラン', 'マルマイン', 'マタドガス', 'ガルーラ', 'ケンタロス', 'キレイハナ', 'ヤドキング', 'ミルタンク', 'バクオング', 'チルタリス'] 490.0\n",
      "Italy 951.25 ['ライチュウ', 'マンタイン', 'ハンテール', 'サクラビス', 'ジーランス'] 485.0\n",
      "Croatia 945.18 ['ピクシー', 'スリーパー'] 483.0\n",
      "Tunisia 909.91 ['オクタン', 'ルンパッパ', 'ダーテング', 'オニゴーリ'] 480.0\n",
      "Iceland 908.01 ['ピジョット'] 479.0\n",
      "Costa Rica 884.04 ['ジュゴン', 'キングラー', 'ライボルト', 'ノクタス'] 475.0\n",
      "Sweden 879.9 ['ハリテヤマ'] 474.0\n",
      "USA 872.68 ['ドードリオ', 'ネイティオ', 'コータス', 'ブーピッグ'] 470.0\n",
      "Austria 844.7 ['ナマズン', 'シザリガー'] 468.0\n",
      "Senegal 837.98 ['マルノーム'] 467.0\n",
      "Slovakia 804.36 ['フォレトス', 'エアームド', 'オドシシ', 'アブソル'] 465.0\n",
      "Northern Ireland 803.22 ['バリヤード', 'ランターン', 'ワタッコ', 'キノガッサ', 'サメハダー', 'バクーダ', 'ルナトーン', 'ソルロック', 'トロピウス'] 460.0\n",
      "Romania 781.66 ['ザングース', 'ハブネーク'] 458.0\n",
      "Republic of Ireland 777.11 ['テッカニン'] 456.0\n",
      "Paraguay 773.18 ['オコリザル', 'サワムラー', 'エビワラー', 'ルージュラ', 'キリンリキ', 'カポエラー', 'オオスバメ', 'ジュペッタ', 'チリーン'] 455.0\n",
      "Venezuela 754.55 ['アメモース'] 454.0\n",
      "Serbia 750.75 ['ヨルノズク'] 452.0\n",
      "Ukraine 732.77 ['モルフォン', 'アズマオウ', 'グランブル'] 450.0\n",
      "Australia 718.33 ['アーボック'] 448.0\n",
      "IR Iran 708.35 ['オニドリル'] 442.0\n",
      "Turkey 706.39 ['ハリーセン', 'ペリッパー', 'ヤルキモノ', 'カクレオン'] 440.0\n",
      "Congo DR 705.87 ['プクリン'] 435.0\n",
      "Bosnia and Herzegovina 692.93 ['ヌオー', 'マグカルゴ', 'バルビート', 'イルミーゼ'] 430.0\n",
      "Morocco 685.86 ['キマワリ'] 425.0\n",
      "Scotland 659.61 ['マリルリ', 'グラエナ', 'マッスグマ'] 420.0\n",
      "Montenegro 651.58 ['オオタチ', 'ノコッチ'] 415.0\n",
      "Greece 649.82 ['ラッタ'] 413.0\n",
      "Egypt 649.43 ['ウソッキー', 'サニーゴ', 'チャーレム'] 410.0\n",
      "Czech Republic 640.7 ['パラセクト', 'ソーナンス', 'プラスル', 'マイナン'] 405.0\n",
      "Ghana 623.69 ['アリアドス', 'エネコロロ'] 400.0\n",
      "Nigeria 617.79 ['バタフリー', 'スピアー', 'アゲハント'] 395.0\n",
      "Bulgaria 614.39 ['レディアン'] 390.0\n",
      "Cameroon 613.88 ['ドクケイル'] 385.0\n",
      "Hungary 611.82 ['ヤミラミ', 'クチート'] 380.0\n",
      "Burkina Faso 604.15 ['カモネギ'] 377.0\n",
      "Norway 595.99 ['パッチール'] 360.0\n",
      "Jamaica 588.13 ['パールル'] 345.0\n",
      "Panama 571.17 ['アンノーン'] 336.0\n",
      "Slovenia 558.05 ['デリバード', 'ラブカス'] 330.0\n",
      "Korea Republic 543.67 ['イーブイ'] 325.0\n",
      "Albania 537.79 ['ピカチュウ'] 320.0\n",
      "Bolivia 536.08 ['メタモン'] 288.0\n",
      "Ecuador 523.85 ['ドーブル'] 250.0\n",
      "Japan 520.75 ['ヌケニン'] 236.0\n"
     ]
    }
   ],
   "source": [
    "for i, (p_name, p_score) in enumerate(zip(p_list, p_scores)):\n",
    "    print(f_list[i], f_scores[i], p_name, p_score)"
   ]
  },
  {
   "cell_type": "markdown",
   "metadata": {},
   "source": [
    "## 正規化あり(第1,2世代のみ)"
   ]
  },
  {
   "cell_type": "code",
   "execution_count": 34,
   "metadata": {},
   "outputs": [],
   "source": [
    "norm_p_scores = (np.array(p_scores) - np.mean(p_scores)) / np.std(p_scores)\n",
    "norm_f_scores = (np.array(f_scores) - np.mean(f_scores)) / np.std(f_scores)"
   ]
  },
  {
   "cell_type": "code",
   "execution_count": 35,
   "metadata": {
    "scrolled": true
   },
   "outputs": [
    {
     "name": "stdout",
     "output_type": "stream",
     "text": [
      "FIFA\tPokemon\n",
      "Germany (score:1558.49, n_score:3.4787)\tミュウツー (score:680.0, n_score2.6846)\n",
      "Brazil (score:1430.57, n_score:3.0957)\tミュウツー (score:680.0, n_score2.6846)\n",
      "Belgium (score:1298.32, n_score:2.6997)\tミュウツー (score:680.0, n_score2.6846)\n",
      "Portugal (score:1273.69, n_score:2.6259)\tミュウツー (score:680.0, n_score2.6846)\n",
      "Argentina (score:1241.45, n_score:2.5294)\tケッキング (score:670.0, n_score2.5672)\n",
      "Switzerland (score:1198.72, n_score:2.4014)\tケッキング (score:670.0, n_score2.5672)\n",
      "France (score:1198.13, n_score:2.3996)\tケッキング (score:670.0, n_score2.5672)\n",
      "Poland (score:1182.61, n_score:2.3532)\tケッキング (score:670.0, n_score2.5672)\n",
      "Chile (score:1134.66, n_score:2.2096)\tケッキング (score:670.0, n_score2.5672)\n",
      "Spain (score:1125.5, n_score:2.1821)\tケッキング (score:670.0, n_score2.5672)\n",
      "Peru (score:1125.39, n_score:2.1818)\tケッキング (score:670.0, n_score2.5672)\n",
      "Denmark (score:1051.44, n_score:1.9604)\tカイリュー (score:600.0, n_score1.7453)\n",
      "England (score:1050.84, n_score:1.9586)\tカイリュー (score:600.0, n_score1.7453)\n",
      "Uruguay (score:1018.41, n_score:1.8615)\tカイリュー (score:600.0, n_score1.7453)\n",
      "Mexico (score:989.44, n_score:1.7747)\tカイリュー (score:600.0, n_score1.7453)\n",
      "Colombia (score:985.97, n_score:1.7643)\tカイリュー (score:600.0, n_score1.7453)\n",
      "Netherlands (score:980.98, n_score:1.7494)\tカイリュー (score:600.0, n_score1.7453)\n",
      "Wales (score:953.46, n_score:1.6670)\tカイリュー (score:600.0, n_score1.7453)\n",
      "Italy (score:951.25, n_score:1.6604)\tカイリュー (score:600.0, n_score1.7453)\n",
      "Croatia (score:945.18, n_score:1.6422)\tカイリュー (score:600.0, n_score1.7453)\n",
      "Tunisia (score:909.91, n_score:1.5366)\tフリーザー (score:580.0, n_score1.5104)\n",
      "Iceland (score:908.01, n_score:1.5309)\tフリーザー (score:580.0, n_score1.5104)\n",
      "Costa Rica (score:884.04, n_score:1.4591)\tフリーザー (score:580.0, n_score1.5104)\n",
      "Sweden (score:879.9, n_score:1.4467)\tフリーザー (score:580.0, n_score1.5104)\n",
      "USA (score:872.68, n_score:1.4251)\tフリーザー (score:580.0, n_score1.5104)\n",
      "Austria (score:844.7, n_score:1.3413)\tウインディ (score:555.0, n_score1.2169)\n",
      "Senegal (score:837.98, n_score:1.3212)\tウインディ (score:555.0, n_score1.2169)\n",
      "Slovakia (score:804.36, n_score:1.2205)\tウインディ (score:555.0, n_score1.2169)\n",
      "Northern Ireland (score:803.22, n_score:1.2171)\tウインディ (score:555.0, n_score1.2169)\n",
      "Romania (score:781.66, n_score:1.1525)\tウインディ (score:555.0, n_score1.2169)\n",
      "Republic of Ireland (score:777.11, n_score:1.1389)\tウインディ (score:555.0, n_score1.2169)\n",
      "Paraguay (score:773.18, n_score:1.1271)\tギャラドス (score:540.0, n_score1.0408)\n",
      "Venezuela (score:754.55, n_score:1.0713)\tギャラドス (score:540.0, n_score1.0408)\n",
      "Serbia (score:750.75, n_score:1.0600)\tギャラドス (score:540.0, n_score1.0408)\n",
      "Ukraine (score:732.77, n_score:1.0061)\tラプラス (score:535.0, n_score0.9821)\n",
      "Australia (score:718.33, n_score:0.9629)\tリザードン (score:534.0, n_score0.9703)\n",
      "IR Iran (score:708.35, n_score:0.9330)\tカメックス (score:530.0, n_score0.9234)\n",
      "Turkey (score:706.39, n_score:0.9271)\tカメックス (score:530.0, n_score0.9234)\n",
      "Congo DR (score:705.87, n_score:0.9256)\tカメックス (score:530.0, n_score0.9234)\n",
      "Bosnia and Herzegovina (score:692.93, n_score:0.8868)\tフシギバナ (score:525.0, n_score0.8646)\n",
      "Morocco (score:685.86, n_score:0.8657)\tフシギバナ (score:525.0, n_score0.8646)\n",
      "Scotland (score:659.61, n_score:0.7870)\tサーナイト (score:518.0, n_score0.7825)\n",
      "Montenegro (score:651.58, n_score:0.7630)\tドククラゲ (score:515.0, n_score0.7472)\n",
      "Greece (score:649.82, n_score:0.7577)\tドククラゲ (score:515.0, n_score0.7472)\n",
      "Egypt (score:649.43, n_score:0.7566)\tドククラゲ (score:515.0, n_score0.7472)\n",
      "Czech Republic (score:640.7, n_score:0.7304)\tドククラゲ (score:515.0, n_score0.7472)\n",
      "Ghana (score:623.69, n_score:0.6795)\tニョロボン (score:510.0, n_score0.6885)\n",
      "Nigeria (score:617.79, n_score:0.6618)\tニョロボン (score:510.0, n_score0.6885)\n",
      "Bulgaria (score:614.39, n_score:0.6516)\tニドクイン (score:505.0, n_score0.6298)\n",
      "Cameroon (score:613.88, n_score:0.6501)\tニドクイン (score:505.0, n_score0.6298)\n",
      "Hungary (score:611.82, n_score:0.6439)\tニドクイン (score:505.0, n_score0.6298)\n",
      "Burkina Faso (score:604.15, n_score:0.6210)\tニドクイン (score:505.0, n_score0.6298)\n",
      "Norway (score:595.99, n_score:0.5965)\tゴルダック (score:500.0, n_score0.5711)\n",
      "Jamaica (score:588.13, n_score:0.5730)\tゴルダック (score:500.0, n_score0.5711)\n",
      "Panama (score:571.17, n_score:0.5222)\tオムスター (score:495.0, n_score0.5124)\n",
      "Slovenia (score:558.05, n_score:0.4829)\tラフレシア (score:490.0, n_score0.4537)\n",
      "Korea Republic (score:543.67, n_score:0.4399)\tラフレシア (score:490.0, n_score0.4537)\n",
      "Albania (score:537.79, n_score:0.4223)\tライチュウ (score:485.0, n_score0.3950)\n",
      "Bolivia (score:536.08, n_score:0.4171)\tライチュウ (score:485.0, n_score0.3950)\n",
      "Ecuador (score:523.85, n_score:0.3805)\tピクシー (score:483.0, n_score0.3715)\n",
      "Japan (score:520.75, n_score:0.3712)\tピクシー (score:483.0, n_score0.3715)\n",
      "Honduras (score:503.3, n_score:0.3190)\tピジョット (score:479.0, n_score0.3245)\n",
      "Finland (score:486.43, n_score:0.2685)\tハリテヤマ (score:474.0, n_score0.2658)\n",
      "Mali (score:483.7, n_score:0.2603)\tハリテヤマ (score:474.0, n_score0.2658)\n",
      "Cape Verde Islands (score:477.77, n_score:0.2425)\tハリテヤマ (score:474.0, n_score0.2658)\n",
      "Algeria (score:473.83, n_score:0.2307)\tドードリオ (score:470.0, n_score0.2189)\n",
      "Saudi Arabia (score:465.28, n_score:0.2051)\tナマズン (score:468.0, n_score0.1954)\n",
      "Côte d'Ivoire (score:463.4, n_score:0.1995)\tナマズン (score:468.0, n_score0.1954)\n",
      "Guinea (score:462.98, n_score:0.1982)\tナマズン (score:468.0, n_score0.1954)\n",
      "Russia (score:456.53, n_score:0.1789)\tマルノーム (score:467.0, n_score0.1836)\n",
      "FYR Macedonia (score:451.3, n_score:0.1633)\tフォレトス (score:465.0, n_score0.1601)\n",
      "El Salvador (score:441.53, n_score:0.1340)\tフォレトス (score:465.0, n_score0.1601)\n",
      "Syria (score:439.65, n_score:0.1284)\tバリヤード (score:460.0, n_score0.1014)\n",
      "South Africa (score:427.68, n_score:0.0925)\tバリヤード (score:460.0, n_score0.1014)\n",
      "China PR (score:423.09, n_score:0.0788)\tザングース (score:458.0, n_score0.0780)\n",
      "Zambia (score:420.31, n_score:0.0705)\tザングース (score:458.0, n_score0.0780)\n",
      "United Arab Emirates (score:417.66, n_score:0.0625)\tテッカニン (score:456.0, n_score0.0545)\n",
      "Belarus (score:417.42, n_score:0.0618)\tテッカニン (score:456.0, n_score0.0545)\n",
      "Lebanon (score:411.49, n_score:0.0441)\tオコリザル (score:455.0, n_score0.0427)\n",
      "Canada (score:410.93, n_score:0.0424)\tオコリザル (score:455.0, n_score0.0427)\n",
      "Curaçao (score:408.27, n_score:0.0344)\tアメモース (score:454.0, n_score0.0310)\n",
      "Uganda (score:402.91, n_score:0.0184)\tヨルノズク (score:452.0, n_score0.0075)\n",
      "Congo (score:393.04, n_score:-0.0112)\tモルフォン (score:450.0, n_score-0.0160)\n",
      "Oman (score:391.06, n_score:-0.0171)\tモルフォン (score:450.0, n_score-0.0160)\n",
      "Gabon (score:389.96, n_score:-0.0204)\tモルフォン (score:450.0, n_score-0.0160)\n",
      "Luxembourg (score:389.95, n_score:-0.0204)\tモルフォン (score:450.0, n_score-0.0160)\n",
      "Cyprus (score:383.53, n_score:-0.0397)\tアーボック (score:448.0, n_score-0.0395)\n",
      "Benin (score:378.77, n_score:-0.0539)\tアーボック (score:448.0, n_score-0.0395)\n",
      "Iraq (score:376.7, n_score:-0.0601)\tアーボック (score:448.0, n_score-0.0395)\n",
      "Faroe Islands (score:375.91, n_score:-0.0625)\tアーボック (score:448.0, n_score-0.0395)\n",
      "Trinidad and Tobago (score:369.54, n_score:-0.0816)\tオニドリル (score:442.0, n_score-0.1099)\n",
      "Kyrgyz Republic (score:362.71, n_score:-0.1020)\tオニドリル (score:442.0, n_score-0.1099)\n",
      "Israel (score:361.87, n_score:-0.1045)\tオニドリル (score:442.0, n_score-0.1099)\n",
      "Estonia (score:359.41, n_score:-0.1119)\tオニドリル (score:442.0, n_score-0.1099)\n",
      "Uzbekistan (score:353.91, n_score:-0.1284)\tハリーセン (score:440.0, n_score-0.1334)\n",
      "Georgia (score:351.51, n_score:-0.1356)\tハリーセン (score:440.0, n_score-0.1334)\n",
      "India (score:349.92, n_score:-0.1403)\tハリーセン (score:440.0, n_score-0.1334)\n",
      "Qatar (score:347.59, n_score:-0.1473)\tハリーセン (score:440.0, n_score-0.1334)\n",
      "Palestine (score:347.07, n_score:-0.1488)\tハリーセン (score:440.0, n_score-0.1334)\n",
      "Armenia (score:338.21, n_score:-0.1754)\tプクリン (score:435.0, n_score-0.1921)\n",
      "Libya (score:335.87, n_score:-0.1824)\tプクリン (score:435.0, n_score-0.1921)\n",
      "Vietnam (score:334.37, n_score:-0.1869)\tプクリン (score:435.0, n_score-0.1921)\n",
      "Niger (score:323.36, n_score:-0.2198)\tプクリン (score:435.0, n_score-0.1921)\n",
      "Haiti (score:321.93, n_score:-0.2241)\tヌオー (score:430.0, n_score-0.2508)\n",
      "Azerbaijan (score:321.48, n_score:-0.2255)\tヌオー (score:430.0, n_score-0.2508)\n",
      "Madagascar (score:307.7, n_score:-0.2667)\tヌオー (score:430.0, n_score-0.2508)\n",
      "Mauritania (score:304.17, n_score:-0.2773)\tヌオー (score:430.0, n_score-0.2508)\n",
      "Korea DPR (score:303.11, n_score:-0.2805)\tキマワリ (score:425.0, n_score-0.3095)\n",
      "Central African Republic (score:303.08, n_score:-0.2806)\tキマワリ (score:425.0, n_score-0.3095)\n",
      "Jordan (score:296.18, n_score:-0.3012)\tキマワリ (score:425.0, n_score-0.3095)\n",
      "Sierra Leone (score:292.16, n_score:-0.3133)\tキマワリ (score:425.0, n_score-0.3095)\n",
      "Kenya (score:290.83, n_score:-0.3173)\tキマワリ (score:425.0, n_score-0.3095)\n",
      "Bahrain (score:289.25, n_score:-0.3220)\tキマワリ (score:425.0, n_score-0.3095)\n",
      "Mozambique (score:281.55, n_score:-0.3450)\tマリルリ (score:420.0, n_score-0.3682)\n",
      "Philippines (score:280.02, n_score:-0.3496)\tマリルリ (score:420.0, n_score-0.3682)\n",
      "Namibia (score:277.06, n_score:-0.3585)\tマリルリ (score:420.0, n_score-0.3682)\n",
      "Kazakhstan (score:272.85, n_score:-0.3711)\tマリルリ (score:420.0, n_score-0.3682)\n",
      "Zimbabwe (score:264.59, n_score:-0.3958)\tマリルリ (score:420.0, n_score-0.3682)\n",
      "Tajikistan (score:263.65, n_score:-0.3986)\tオオタチ (score:415.0, n_score-0.4269)\n",
      "New Zealand (score:255.78, n_score:-0.4222)\tオオタチ (score:415.0, n_score-0.4269)\n",
      "Guinea-Bissau (score:255.11, n_score:-0.4242)\tオオタチ (score:415.0, n_score-0.4269)\n",
      "Thailand (score:248.21, n_score:-0.4449)\tラッタ (score:413.0, n_score-0.4504)\n",
      "Malawi (score:247.19, n_score:-0.4479)\tラッタ (score:413.0, n_score-0.4504)\n",
      "Chinese Taipei (score:246.74, n_score:-0.4493)\tラッタ (score:413.0, n_score-0.4504)\n",
      "Togo (score:241.13, n_score:-0.4661)\tラッタ (score:413.0, n_score-0.4504)\n",
      "Lithuania (score:239.38, n_score:-0.4713)\tウソッキー (score:410.0, n_score-0.4856)\n",
      "Antigua and Barbuda (score:239.34, n_score:-0.4714)\tウソッキー (score:410.0, n_score-0.4856)\n",
      "Sudan (score:232.17, n_score:-0.4929)\tウソッキー (score:410.0, n_score-0.4856)\n",
      "Latvia (score:230.04, n_score:-0.4993)\tウソッキー (score:410.0, n_score-0.4856)\n",
      "Turkmenistan (score:229.36, n_score:-0.5013)\tウソッキー (score:410.0, n_score-0.4856)\n",
      "Andorra (score:228.81, n_score:-0.5030)\tウソッキー (score:410.0, n_score-0.4856)\n",
      "Nicaragua (score:227.69, n_score:-0.5063)\tウソッキー (score:410.0, n_score-0.4856)\n",
      "Yemen (score:227.43, n_score:-0.5071)\tウソッキー (score:410.0, n_score-0.4856)\n",
      "Swaziland (score:222.13, n_score:-0.5230)\tパラセクト (score:405.0, n_score-0.5444)\n",
      "St Kitts and Nevis (score:218.06, n_score:-0.5352)\tパラセクト (score:405.0, n_score-0.5444)\n",
      "Rwanda (score:216.13, n_score:-0.5409)\tパラセクト (score:405.0, n_score-0.5444)\n",
      "Angola (score:209.08, n_score:-0.5621)\tパラセクト (score:405.0, n_score-0.5444)\n",
      "Myanmar (score:205.52, n_score:-0.5727)\tパラセクト (score:405.0, n_score-0.5444)\n",
      "Botswana (score:204.52, n_score:-0.5757)\tアリアドス (score:400.0, n_score-0.6031)\n",
      "Tanzania (score:200.32, n_score:-0.5883)\tアリアドス (score:400.0, n_score-0.6031)\n",
      "Kosovo (score:197.2, n_score:-0.5976)\tアリアドス (score:400.0, n_score-0.6031)\n",
      "Hong Kong (score:195.06, n_score:-0.6040)\tアリアドス (score:400.0, n_score-0.6031)\n",
      "Equatorial Guinea (score:189.97, n_score:-0.6193)\tアリアドス (score:400.0, n_score-0.6031)\n",
      "Solomon Islands (score:189.91, n_score:-0.6195)\tアリアドス (score:400.0, n_score-0.6031)\n",
      "Afghanistan (score:187.6, n_score:-0.6264)\tアリアドス (score:400.0, n_score-0.6031)\n",
      "Guatemala (score:179.79, n_score:-0.6498)\tバタフリー (score:395.0, n_score-0.6618)\n",
      "Lesotho (score:175.48, n_score:-0.6627)\tバタフリー (score:395.0, n_score-0.6618)\n",
      "Burundi (score:174.16, n_score:-0.6666)\tバタフリー (score:395.0, n_score-0.6618)\n",
      "Comoros (score:171.66, n_score:-0.6741)\tバタフリー (score:395.0, n_score-0.6618)\n",
      "Maldives (score:171.42, n_score:-0.6748)\tバタフリー (score:395.0, n_score-0.6618)\n",
      "Ethiopia (score:165.84, n_score:-0.6915)\tレディアン (score:390.0, n_score-0.7205)\n",
      "Dominican Republic (score:162.4, n_score:-0.7018)\tレディアン (score:390.0, n_score-0.7205)\n",
      "Suriname (score:154.19, n_score:-0.7264)\tレディアン (score:390.0, n_score-0.7205)\n",
      "New Caledonia (score:149.6, n_score:-0.7402)\tレディアン (score:390.0, n_score-0.7205)\n",
      "Mauritius (score:140.37, n_score:-0.7678)\tドクケイル (score:385.0, n_score-0.7792)\n",
      "South Sudan (score:131.82, n_score:-0.7934)\tドクケイル (score:385.0, n_score-0.7792)\n",
      "Tahiti (score:129.62, n_score:-0.8000)\tドクケイル (score:385.0, n_score-0.7792)\n",
      "Liberia (score:129.08, n_score:-0.8016)\tドクケイル (score:385.0, n_score-0.7792)\n",
      "Kuwait (score:128.48, n_score:-0.8034)\tドクケイル (score:385.0, n_score-0.7792)\n",
      "Barbados (score:127.07, n_score:-0.8076)\tドクケイル (score:385.0, n_score-0.7792)\n",
      "Nepal (score:118.47, n_score:-0.8334)\tヤミラミ (score:380.0, n_score-0.8379)\n",
      "Vanuatu (score:116.83, n_score:-0.8383)\tヤミラミ (score:380.0, n_score-0.8379)\n",
      "Belize (score:115.31, n_score:-0.8428)\tヤミラミ (score:380.0, n_score-0.8379)\n",
      "Indonesia (score:111.49, n_score:-0.8543)\tヤミラミ (score:380.0, n_score-0.8379)\n",
      "Fiji (score:103.65, n_score:-0.8778)\tカモネギ (score:377.0, n_score-0.8731)\n",
      "Cambodia (score:103.2, n_score:-0.8791)\tカモネギ (score:377.0, n_score-0.8731)\n",
      "Papua New Guinea (score:102.67, n_score:-0.8807)\tカモネギ (score:377.0, n_score-0.8731)\n",
      "Grenada (score:101.53, n_score:-0.8841)\tカモネギ (score:377.0, n_score-0.8731)\n",
      "Singapore (score:98.85, n_score:-0.8921)\tカモネギ (score:377.0, n_score-0.8731)\n",
      "St Lucia (score:94.94, n_score:-0.9038)\tカモネギ (score:377.0, n_score-0.8731)\n",
      "Malaysia (score:93.04, n_score:-0.9095)\tカモネギ (score:377.0, n_score-0.8731)\n",
      "Gambia (score:91.94, n_score:-0.9128)\tカモネギ (score:377.0, n_score-0.8731)\n",
      "St Vincent and the Grenadines (score:88.6, n_score:-0.9228)\tカモネギ (score:377.0, n_score-0.8731)\n",
      "Puerto Rico (score:88.59, n_score:-0.9229)\tカモネギ (score:377.0, n_score-0.8731)\n",
      "Chad (score:87.98, n_score:-0.9247)\tカモネギ (score:377.0, n_score-0.8731)\n",
      "Moldova (score:87.81, n_score:-0.9252)\tカモネギ (score:377.0, n_score-0.8731)\n",
      "Dominica (score:86.07, n_score:-0.9304)\tカモネギ (score:377.0, n_score-0.8731)\n",
      "Bermuda (score:81.64, n_score:-0.9437)\tカモネギ (score:377.0, n_score-0.8731)\n",
      "Laos (score:81.58, n_score:-0.9439)\tカモネギ (score:377.0, n_score-0.8731)\n",
      "Liechtenstein (score:79.76, n_score:-0.9493)\tカモネギ (score:377.0, n_score-0.8731)\n",
      "Cuba (score:74.88, n_score:-0.9639)\tカモネギ (score:377.0, n_score-0.8731)\n",
      "Guyana (score:73.41, n_score:-0.9683)\tカモネギ (score:377.0, n_score-0.8731)\n",
      "Bhutan (score:68.0, n_score:-0.9845)\tパッチール (score:360.0, n_score-1.0727)\n",
      "Malta (score:65.11, n_score:-0.9932)\tパッチール (score:360.0, n_score-1.0727)\n",
      "Macau (score:60.11, n_score:-1.0081)\tパッチール (score:360.0, n_score-1.0727)\n",
      "Mongolia (score:51.0, n_score:-1.0354)\tパッチール (score:360.0, n_score-1.0727)\n",
      "São Tomé e Príncipe (score:50.54, n_score:-1.0368)\tパッチール (score:360.0, n_score-1.0727)\n",
      "Seychelles (score:48.47, n_score:-1.0430)\tパッチール (score:360.0, n_score-1.0727)\n",
      "Aruba (score:48.45, n_score:-1.0431)\tパッチール (score:360.0, n_score-1.0727)\n",
      "Guam (score:44.96, n_score:-1.0535)\tパッチール (score:360.0, n_score-1.0727)\n",
      "Timor-Leste (score:44.86, n_score:-1.0538)\tパッチール (score:360.0, n_score-1.0727)\n",
      "American Samoa (score:38.25, n_score:-1.0736)\tパッチール (score:360.0, n_score-1.0727)\n",
      "Cook Islands (score:38.25, n_score:-1.0736)\tパッチール (score:360.0, n_score-1.0727)\n",
      "Bangladesh (score:34.76, n_score:-1.0841)\tパッチール (score:360.0, n_score-1.0727)\n",
      "Gibraltar (score:34.16, n_score:-1.0858)\tパッチール (score:360.0, n_score-1.0727)\n",
      "Brunei Darussalam (score:34.0, n_score:-1.0863)\tパッチール (score:360.0, n_score-1.0727)\n",
      "Djibouti (score:31.88, n_score:-1.0927)\tパッチール (score:360.0, n_score-1.0727)\n",
      "Samoa (score:31.88, n_score:-1.0927)\tパッチール (score:360.0, n_score-1.0727)\n",
      "US Virgin Islands (score:17.6, n_score:-1.1354)\tパッチール (score:360.0, n_score-1.0727)\n",
      "Sri Lanka (score:16.76, n_score:-1.1380)\tパッチール (score:360.0, n_score-1.0727)\n",
      "Pakistan (score:10.17, n_score:-1.1577)\tパッチール (score:360.0, n_score-1.0727)\n",
      "Cayman Islands (score:8.5, n_score:-1.1627)\tパールル (score:345.0, n_score-1.2488)\n",
      "San Marino (score:7.92, n_score:-1.1644)\tパールル (score:345.0, n_score-1.2488)\n",
      "British Virgin Islands (score:4.25, n_score:-1.1754)\tパールル (score:345.0, n_score-1.2488)\n",
      "Montserrat (score:4.25, n_score:-1.1754)\tパールル (score:345.0, n_score-1.2488)\n",
      "Turks and Caicos Islands (score:0.0, n_score:-1.1881)\tパールル (score:345.0, n_score-1.2488)\n",
      "Anguilla (score:0.0, n_score:-1.1881)\tパールル (score:345.0, n_score-1.2488)\n",
      "Bahamas (score:0.0, n_score:-1.1881)\tパールル (score:345.0, n_score-1.2488)\n",
      "Eritrea (score:0.0, n_score:-1.1881)\tパールル (score:345.0, n_score-1.2488)\n",
      "Somalia (score:0.0, n_score:-1.1881)\tパールル (score:345.0, n_score-1.2488)\n",
      "Tonga (score:0.0, n_score:-1.1881)\tパールル (score:345.0, n_score-1.2488)\n"
     ]
    }
   ],
   "source": [
    "print(\"FIFA\\tPokemon\")\n",
    "for n_f_score, f_score, f_team in zip(norm_f_scores, f_scores, f_list):\n",
    "    pos = np.argmin(np.abs(norm_p_scores - n_f_score))\n",
    "    print(\"{} (score:{}, n_score:{:.4f})\\t{} (score:{}, n_score{:.4f})\".format(\n",
    "        f_team, f_score, n_f_score, p_list[pos][0], p_scores[pos], norm_p_scores[pos]))"
   ]
  }
 ],
 "metadata": {
  "kernelspec": {
   "display_name": "Python 3",
   "language": "python",
   "name": "python3"
  },
  "language_info": {
   "codemirror_mode": {
    "name": "ipython",
    "version": 3
   },
   "file_extension": ".py",
   "mimetype": "text/x-python",
   "name": "python",
   "nbconvert_exporter": "python",
   "pygments_lexer": "ipython3",
   "version": "3.6.3"
  }
 },
 "nbformat": 4,
 "nbformat_minor": 2
}
